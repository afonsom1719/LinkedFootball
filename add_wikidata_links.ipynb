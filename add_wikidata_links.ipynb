{
 "cells": [
  {
   "cell_type": "code",
   "execution_count": 13,
   "metadata": {},
   "outputs": [
    {
     "name": "stdout",
     "output_type": "stream",
     "text": [
      "Updated TTL saved to 'updated.ttl'\n"
     ]
    }
   ],
   "source": [
    "import pandas as pd\n",
    "\n",
    "# Load the CSV mapping of country names to Wikidata URIs\n",
    "country_to_wikidata_df = pd.read_csv('countries.csv', header=None, names=['Country', 'WikidataURI'])\n",
    "\n",
    "# Convert the country names to a dictionary for fast lookup\n",
    "country_to_wikidata = dict(zip(country_to_wikidata_df['Country'], country_to_wikidata_df['WikidataURI']))\n",
    "\n",
    "# Read the TTL file as text\n",
    "with open(\"sports_data.ttl\", \"r\", encoding=\"utf-8\") as ttl_file:\n",
    "    ttl_lines = ttl_file.readlines()\n",
    "\n",
    "# Prepare to write the updated TTL\n",
    "with open(\"updated.ttl\", \"w\", encoding=\"utf-8\") as updated_ttl_file:\n",
    "    for line in ttl_lines:\n",
    "        updated_ttl_file.write(line)\n",
    "\n",
    "        # If a line contains birthPlace and is a literal (country name), check for a Wikidata URI\n",
    "        if \"schema:birthPlace\" in line and '\"' in line:\n",
    "            # Extract the country name from the line (assuming the country is inside quotes)\n",
    "            birth_place_literal = line.split('\"')[1]\n",
    "            \n",
    "            # Check if the birthPlace literal is in the CSV mapping\n",
    "            if birth_place_literal in country_to_wikidata:\n",
    "                # Get the corresponding Wikidata URI\n",
    "                wikidata_uri = country_to_wikidata[birth_place_literal]\n",
    "                \n",
    "                # Add the new line with the Wikidata URI for birthPlace\n",
    "                updated_ttl_file.write(f'    schema:birthPlace <{wikidata_uri}> ;\\n')\n",
    "\n",
    "print(\"Updated TTL saved to 'updated.ttl'\")\n"
   ]
  },
  {
   "cell_type": "code",
   "execution_count": 11,
   "metadata": {},
   "outputs": [
    {
     "name": "stdout",
     "output_type": "stream",
     "text": [
      "Number of unmatched country names: 0\n",
      "Unmatched country names:\n"
     ]
    }
   ],
   "source": [
    "# Now read updated.ttl and check if there is any schema:birthPlace with country name only, print the number of unmatched country names, and the unmatched country names\n",
    "with open(\"updated.ttl\", \"r\", encoding=\"utf-8\") as updated_ttl_file:\n",
    "    updated_ttl_lines = updated_ttl_file.readlines()\n",
    "\n",
    "# Initialize a set to store the unmatched country names\n",
    "unmatched_country_names = set()\n",
    "\n",
    "for line in updated_ttl_lines:\n",
    "    # If a line contains birthPlace and is a literal (country name), check for a Wikidata URI\n",
    "    if \"schema:birthPlace\" in line and '\"' in line:\n",
    "        # Extract the country name from the line (assuming the country is inside quotes)\n",
    "        birth_place_literal = line.split('\"')[1]\n",
    "        \n",
    "        # Check if the birthPlace literal is in the CSV mapping\n",
    "        if birth_place_literal not in country_to_wikidata:\n",
    "            # Add the unmatched country name to the set\n",
    "            unmatched_country_names.add(birth_place_literal)\n",
    "\n",
    "# Print the number of unmatched country names and the unmatched country names\n",
    "print(f\"Number of unmatched country names: {len(unmatched_country_names)}\")\n",
    "print(\"Unmatched country names:\")\n",
    "for country_name in unmatched_country_names:\n",
    "    print(country_name)"
   ]
  }
 ],
 "metadata": {
  "kernelspec": {
   "display_name": "Python 3",
   "language": "python",
   "name": "python3"
  },
  "language_info": {
   "codemirror_mode": {
    "name": "ipython",
    "version": 3
   },
   "file_extension": ".py",
   "mimetype": "text/x-python",
   "name": "python",
   "nbconvert_exporter": "python",
   "pygments_lexer": "ipython3",
   "version": "3.11.9"
  }
 },
 "nbformat": 4,
 "nbformat_minor": 2
}
