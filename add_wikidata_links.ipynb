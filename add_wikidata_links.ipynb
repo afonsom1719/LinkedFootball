{
 "cells": [
  {
   "cell_type": "code",
   "execution_count": null,
   "metadata": {},
   "outputs": [
    {
     "name": "stdout",
     "output_type": "stream",
     "text": [
      "Updated TTL saved to 'updated.ttl'\n"
     ]
    }
   ],
   "source": [
    "import pandas as pd\n",
    "\n",
    "country_to_wikidata_df = pd.read_csv('countries.csv', header=None, names=['Country', 'WikidataURI'])\n",
    "\n",
    "country_to_wikidata = dict(zip(country_to_wikidata_df['Country'], country_to_wikidata_df['WikidataURI']))\n",
    "\n",
    "with open(\"sports_data.ttl\", \"r\", encoding=\"utf-8\") as ttl_file:\n",
    "    ttl_lines = ttl_file.readlines()\n",
    "\n",
    "with open(\"updated.ttl\", \"w\", encoding=\"utf-8\") as updated_ttl_file:\n",
    "    for line in ttl_lines:\n",
    "        updated_ttl_file.write(line)\n",
    "\n",
    "        # If a line contains birthPlace and is a literal (country name), check for a Wikidata URI\n",
    "        if \"schema:birthPlace\" in line and '\"' in line:\n",
    "            # Extract the country name from the line (assuming the country is inside quotes)\n",
    "            birth_place_literal = line.split('\"')[1]\n",
    "            \n",
    "            # Check if the birthPlace literal is in the CSV mapping\n",
    "            if birth_place_literal in country_to_wikidata:\n",
    "                # Get the corresponding Wikidata URI\n",
    "                wikidata_uri = country_to_wikidata[birth_place_literal]\n",
    "                \n",
    "                # Add the new line with the Wikidata URI for birthPlace\n",
    "                updated_ttl_file.write(f'    schema:birthPlace <{wikidata_uri}> ;\\n')\n",
    "\n",
    "print(\"Updated TTL saved to 'updated.ttl'\")"
   ]
  },
  {
   "cell_type": "code",
   "execution_count": 11,
   "metadata": {},
   "outputs": [
    {
     "name": "stdout",
     "output_type": "stream",
     "text": [
      "Number of unmatched country names: 0\n",
      "Unmatched country names:\n"
     ]
    }
   ],
   "source": [
    "with open(\"updated.ttl\", \"r\", encoding=\"utf-8\") as updated_ttl_file:\n",
    "    updated_ttl_lines = updated_ttl_file.readlines()\n",
    "\n",
    "unmatched_country_names = set()\n",
    "\n",
    "for line in updated_ttl_lines:\n",
    "    # If a line contains birthPlace and is a literal (country name), check for a Wikidata URI\n",
    "    if \"schema:birthPlace\" in line and '\"' in line:\n",
    "        # Extract the country name from the line (assuming the country is inside quotes)\n",
    "        birth_place_literal = line.split('\"')[1]\n",
    "        \n",
    "        # Check if the birthPlace literal is in the CSV mapping\n",
    "        if birth_place_literal not in country_to_wikidata:\n",
    "            # Add the unmatched country name to the set\n",
    "            unmatched_country_names.add(birth_place_literal)\n",
    "\n",
    "print(f\"Number of unmatched country names: {len(unmatched_country_names)}\")\n",
    "print(\"Unmatched country names:\")\n",
    "for country_name in unmatched_country_names:\n",
    "    print(country_name)"
   ]
  },
  {
   "cell_type": "code",
   "execution_count": 15,
   "metadata": {},
   "outputs": [
    {
     "name": "stdout",
     "output_type": "stream",
     "text": [
      "Positions:\n",
      "Centre-Back\n",
      "Right-Back\n",
      "Centre-Forward\n",
      "Goalkeeper\n",
      "Defence\n",
      "Left Winger\n",
      "Central Midfield\n",
      "Midfield\n",
      "Defensive Midfield\n",
      "Right Winger\n",
      "Right Midfield\n",
      "Left Midfield\n",
      "Attacking Midfield\n",
      "Offence\n",
      "Left-Back\n"
     ]
    }
   ],
   "source": [
    "with open(\"sports_data.ttl\", \"r\", encoding=\"utf-8\") as ttl_file:\n",
    "    ttl_lines = ttl_file.readlines()\n",
    "\n",
    "positions = set()\n",
    "\n",
    "for line in ttl_lines:\n",
    "    # If a line contains a position and is a literal, add the position to the set\n",
    "    if \"schema:roleName\" in line and '\"' in line:\n",
    "        # Extract the position from the line (assuming the position is inside quotes)\n",
    "        position_literal = line.split('\"')[1]\n",
    "        positions.add(position_literal)\n",
    "\n",
    "print(\"Positions:\")\n",
    "for position in positions:\n",
    "    print(position)"
   ]
  },
  {
   "cell_type": "code",
   "execution_count": 16,
   "metadata": {},
   "outputs": [
    {
     "name": "stdout",
     "output_type": "stream",
     "text": [
      "Updated TTL saved to 'updated2.ttl'\n"
     ]
    }
   ],
   "source": [
    "position_to_wikidata_df = pd.read_csv('positions.csv', header=None, names=['Position', 'WikidataURI'])\n",
    "\n",
    "position_to_wikidata = dict(zip(position_to_wikidata_df['Position'], position_to_wikidata_df['WikidataURI']))\n",
    "\n",
    "with open(\"updated.ttl\", \"r\", encoding=\"utf-8\") as updated_ttl_file:\n",
    "    ttl_lines = updated_ttl_file.readlines()\n",
    "\n",
    "with open(\"updated2.ttl\", \"w\", encoding=\"utf-8\") as updated_ttl_file:\n",
    "    for line in ttl_lines:\n",
    "        updated_ttl_file.write(line)\n",
    "\n",
    "        # If a line contains roleName and is a literal (position), check for a Wikidata URI\n",
    "        if \"schema:roleName\" in line and '\"' in line:\n",
    "            # Extract the position from the line (assuming the position is inside quotes)\n",
    "            position_literal = line.split('\"')[1]\n",
    "            \n",
    "            # Check if the roleName literal is in the CSV mapping\n",
    "            if position_literal in position_to_wikidata:\n",
    "                # Get the corresponding Wikidata URI\n",
    "                wikidata_uri = position_to_wikidata[position_literal]\n",
    "                \n",
    "                # Add the new line with the Wikidata URI for roleName\n",
    "                updated_ttl_file.write(f'    schema:roleName <{wikidata_uri}> ;\\n')\n",
    "\n",
    "print(\"Updated TTL saved to 'updated2.ttl'\")"
   ]
  },
  {
   "cell_type": "code",
   "execution_count": 19,
   "metadata": {},
   "outputs": [
    {
     "name": "stdout",
     "output_type": "stream",
     "text": [
      "Number of unmatched positions: 0\n",
      "Unmatched positions:\n"
     ]
    }
   ],
   "source": [
    "with open(\"updated2.ttl\", \"r\", encoding=\"utf-8\") as updated_ttl_file:\n",
    "    updated_ttl_lines = updated_ttl_file.readlines()\n",
    "\n",
    "unmatched_positions = set()\n",
    "\n",
    "for line in updated_ttl_lines:\n",
    "    # If a line contains roleName and is a literal (position), check for a Wikidata URI\n",
    "    if \"schema:roleName\" in line and '\"' in line:\n",
    "        # Extract the position from the line (assuming the position is inside quotes)\n",
    "        position_literal = line.split('\"')[1]\n",
    "        \n",
    "        # Check if the roleName literal is in the CSV mapping\n",
    "        if position_literal not in position_to_wikidata:\n",
    "            # Add the unmatched position to the set\n",
    "            unmatched_positions.add(position_literal)\n",
    "\n",
    "print(f\"Number of unmatched positions: {len(unmatched_positions)}\")\n",
    "print(\"Unmatched positions:\")"
   ]
  }
 ],
 "metadata": {
  "kernelspec": {
   "display_name": "Python 3",
   "language": "python",
   "name": "python3"
  },
  "language_info": {
   "codemirror_mode": {
    "name": "ipython",
    "version": 3
   },
   "file_extension": ".py",
   "mimetype": "text/x-python",
   "name": "python",
   "nbconvert_exporter": "python",
   "pygments_lexer": "ipython3",
   "version": "3.11.9"
  }
 },
 "nbformat": 4,
 "nbformat_minor": 2
}
