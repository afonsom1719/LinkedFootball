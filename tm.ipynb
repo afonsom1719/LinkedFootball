{
 "cells": [
  {
   "cell_type": "code",
   "execution_count": 10,
   "metadata": {},
   "outputs": [
    {
     "data": {
      "text/plain": [
       "<module 'transfermarkt' from '/Users/afonsomartins/Documents/FEUP/MEIC2/WSDL/transfermarkt.py'>"
      ]
     },
     "execution_count": 10,
     "metadata": {},
     "output_type": "execute_result"
    }
   ],
   "source": [
    "import importlib\n",
    "import transfermarkt as tm\n",
    "importlib.reload(tm)"
   ]
  },
  {
   "cell_type": "code",
   "execution_count": 13,
   "metadata": {},
   "outputs": [
    {
     "name": "stdout",
     "output_type": "stream",
     "text": [
      "Scraping complete. Data exported to 'club_values.csv' and 'players_data.csv'.\n",
      "Scraping complete. Data exported to 'club_values.csv' and 'players_data.csv'.\n",
      "Scraping complete. Data exported to 'club_values.csv' and 'players_data.csv'.\n",
      "Scraping complete. Data exported to 'club_values.csv' and 'players_data.csv'.\n",
      "Scraping complete. Data exported to 'club_values.csv' and 'players_data.csv'.\n"
     ]
    }
   ],
   "source": [
    "# Define leagues to scrape\n",
    "leagues = [\n",
    "    'https://www.transfermarkt.co.uk/liga-nos/startseite/wettbewerb/PO1',\n",
    "    'https://www.transfermarkt.co.uk/premier-league/startseite/wettbewerb/GB1',\n",
    "    'https://www.transfermarkt.co.uk/primera-division/startseite/wettbewerb/ES1',\n",
    "    'https://www.transfermarkt.co.uk/serie-a/startseite/wettbewerb/IT1',\n",
    "    'https://www.transfermarkt.co.uk/bundesliga/startseite/wettbewerb/L1',\n",
    "]\n",
    "\n",
    "# Scrape all leagues\n",
    "for league in leagues:\n",
    "    tm.scrape_transfermarkt_competition(league)"
   ]
  }
 ],
 "metadata": {
  "kernelspec": {
   "display_name": "Python 3",
   "language": "python",
   "name": "python3"
  },
  "language_info": {
   "codemirror_mode": {
    "name": "ipython",
    "version": 3
   },
   "file_extension": ".py",
   "mimetype": "text/x-python",
   "name": "python",
   "nbconvert_exporter": "python",
   "pygments_lexer": "ipython3",
   "version": "3.11.9"
  }
 },
 "nbformat": 4,
 "nbformat_minor": 2
}
